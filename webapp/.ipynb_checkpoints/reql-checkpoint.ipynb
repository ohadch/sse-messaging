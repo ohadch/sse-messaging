{
 "cells": [
  {
   "cell_type": "code",
   "execution_count": 1,
   "metadata": {},
   "outputs": [],
   "source": [
    "from rethinkdb import RethinkDB # import the RethinkDB package\n",
    "r = RethinkDB()                 # create a RethinkDB object\n",
    "conn = r.connect('192.168.99.100', 28015).repl()"
   ]
  },
  {
   "cell_type": "code",
   "execution_count": 2,
   "metadata": {},
   "outputs": [
    {
     "data": {
      "text/plain": [
       "{'config_changes': [{'new_val': {'db': 'data',\n",
       "    'durability': 'hard',\n",
       "    'id': '01f6c5c2-b3d2-4793-b187-4c683d28c0bc',\n",
       "    'indexes': [],\n",
       "    'name': 'messages',\n",
       "    'primary_key': 'id',\n",
       "    'shards': [{'nonvoting_replicas': [],\n",
       "      'primary_replica': 'fea739c5ea0a_wwz',\n",
       "      'replicas': ['fea739c5ea0a_wwz']}],\n",
       "    'write_acks': 'majority'},\n",
       "   'old_val': None}],\n",
       " 'tables_created': 1}"
      ]
     },
     "execution_count": 2,
     "metadata": {},
     "output_type": "execute_result"
    }
   ],
   "source": [
    "# creates database\n",
    "r.db_create('data').run(conn);\n",
    "\n",
    "# creates tables in the database\n",
    "r.db('data').table_create('messages').run(conn)"
   ]
  }
 ],
 "metadata": {
  "kernelspec": {
   "display_name": "Python 3",
   "language": "python",
   "name": "python3"
  },
  "language_info": {
   "codemirror_mode": {
    "name": "ipython",
    "version": 3
   },
   "file_extension": ".py",
   "mimetype": "text/x-python",
   "name": "python",
   "nbconvert_exporter": "python",
   "pygments_lexer": "ipython3",
   "version": "3.6.7"
  },
  "toc": {
   "base_numbering": 1,
   "nav_menu": {},
   "number_sections": false,
   "sideBar": false,
   "skip_h1_title": false,
   "title_cell": "Table of Contents",
   "title_sidebar": "Contents",
   "toc_cell": false,
   "toc_position": {},
   "toc_section_display": false,
   "toc_window_display": false
  }
 },
 "nbformat": 4,
 "nbformat_minor": 2
}
